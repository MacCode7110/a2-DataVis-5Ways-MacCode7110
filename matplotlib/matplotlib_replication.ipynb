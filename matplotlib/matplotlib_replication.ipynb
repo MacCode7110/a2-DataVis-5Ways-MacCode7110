{
 "cells": [
  {
   "cell_type": "code",
   "execution_count": 16,
   "metadata": {},
   "outputs": [
    {
     "ename": "ValueError",
     "evalue": "The truth value of a Series is ambiguous. Use a.empty, a.bool(), a.item(), a.any() or a.all().",
     "output_type": "error",
     "traceback": [
      "\u001b[1;31m---------------------------------------------------------------------------\u001b[0m",
      "\u001b[1;31mValueError\u001b[0m                                Traceback (most recent call last)",
      "\u001b[1;32m~\\AppData\\Local\\Temp\\ipykernel_344\\1162794905.py\u001b[0m in \u001b[0;36m?\u001b[1;34m()\u001b[0m\n\u001b[1;32m---> 36\u001b[1;33m \u001b[1;32mimport\u001b[0m \u001b[0mpandas\u001b[0m \u001b[1;32mas\u001b[0m \u001b[0mpd\u001b[0m\u001b[1;33m\u001b[0m\u001b[1;33m\u001b[0m\u001b[0m\n\u001b[0m\u001b[0;32m     37\u001b[0m \u001b[1;32mimport\u001b[0m \u001b[0mmatplotlib\u001b[0m\u001b[1;33m.\u001b[0m\u001b[0mpyplot\u001b[0m \u001b[1;32mas\u001b[0m \u001b[0mplt\u001b[0m\u001b[1;33m\u001b[0m\u001b[1;33m\u001b[0m\u001b[0m\n\u001b[0;32m     38\u001b[0m \u001b[1;33m\u001b[0m\u001b[0m\n\u001b[0;32m     39\u001b[0m \u001b[1;31m# Please Note: For this matplotlib replication, I am choosing to employ a technical achievement:\u001b[0m\u001b[1;33m\u001b[0m\u001b[1;33m\u001b[0m\u001b[1;33m\u001b[0m\u001b[0m\n",
      "\u001b[1;32m~\\AppData\\Local\\Temp\\ipykernel_344\\1162794905.py\u001b[0m in \u001b[0;36m?\u001b[1;34m(species_name)\u001b[0m\n\u001b[0;32m     10\u001b[0m \u001b[1;32mdef\u001b[0m \u001b[0mget_species_color\u001b[0m\u001b[1;33m(\u001b[0m\u001b[0mspecies_name\u001b[0m\u001b[1;33m)\u001b[0m\u001b[1;33m:\u001b[0m\u001b[1;33m\u001b[0m\u001b[1;33m\u001b[0m\u001b[0m\n\u001b[1;32m---> 11\u001b[1;33m     \u001b[1;32mif\u001b[0m \u001b[0mspecies_name\u001b[0m \u001b[1;33m==\u001b[0m \u001b[1;34m\"Adelie\"\u001b[0m\u001b[1;33m:\u001b[0m\u001b[1;33m\u001b[0m\u001b[1;33m\u001b[0m\u001b[0m\n\u001b[0m\u001b[0;32m     12\u001b[0m         \u001b[1;32mreturn\u001b[0m \u001b[1;34m\"#FF9013\"\u001b[0m\u001b[1;33m\u001b[0m\u001b[1;33m\u001b[0m\u001b[0m\n\u001b[0;32m     13\u001b[0m     \u001b[1;32melif\u001b[0m \u001b[0mspecies_name\u001b[0m \u001b[1;33m==\u001b[0m \u001b[1;34m\"Chinstrap\"\u001b[0m\u001b[1;33m:\u001b[0m\u001b[1;33m\u001b[0m\u001b[1;33m\u001b[0m\u001b[0m\n\u001b[0;32m     14\u001b[0m         \u001b[1;32mreturn\u001b[0m \u001b[1;34m\"#9932CC\"\u001b[0m\u001b[1;33m\u001b[0m\u001b[1;33m\u001b[0m\u001b[0m\n",
      "\u001b[1;32mc:\\Users\\17818\\AppData\\Local\\Programs\\Python\\Python38\\lib\\site-packages\\pandas\\core\\generic.py\u001b[0m in \u001b[0;36m?\u001b[1;34m(self)\u001b[0m\n\u001b[0;32m   1464\u001b[0m     \u001b[1;33m@\u001b[0m\u001b[0mfinal\u001b[0m\u001b[1;33m\u001b[0m\u001b[1;33m\u001b[0m\u001b[0m\n\u001b[0;32m   1465\u001b[0m     \u001b[1;32mdef\u001b[0m \u001b[0m__nonzero__\u001b[0m\u001b[1;33m(\u001b[0m\u001b[0mself\u001b[0m\u001b[1;33m)\u001b[0m \u001b[1;33m->\u001b[0m \u001b[0mNoReturn\u001b[0m\u001b[1;33m:\u001b[0m\u001b[1;33m\u001b[0m\u001b[1;33m\u001b[0m\u001b[0m\n\u001b[1;32m-> 1466\u001b[1;33m         raise ValueError(\n\u001b[0m\u001b[0;32m   1467\u001b[0m             \u001b[1;34mf\"The truth value of a {type(self).__name__} is ambiguous. \"\u001b[0m\u001b[1;33m\u001b[0m\u001b[1;33m\u001b[0m\u001b[0m\n\u001b[0;32m   1468\u001b[0m             \u001b[1;34m\"Use a.empty, a.bool(), a.item(), a.any() or a.all().\"\u001b[0m\u001b[1;33m\u001b[0m\u001b[1;33m\u001b[0m\u001b[0m\n\u001b[0;32m   1469\u001b[0m         )\n",
      "\u001b[1;31mValueError\u001b[0m: The truth value of a Series is ambiguous. Use a.empty, a.bool(), a.item(), a.any() or a.all()."
     ]
    }
   ],
   "source": [
    "import pandas as pd\n",
    "import matplotlib.pyplot as plt\n",
    "\n",
    "# Please Note: For this matplotlib replication, I am choosing to employ a technical achievement:\n",
    "# I am filling in every NA value in the loaded dataset with the current average value (for quantities) or most frequent value (for categorical data) in that column.\n",
    "# I am employing this technical improvement because NA/NAN values are unhashable in Python, which creates errors when trying to scatter all of the data.\n",
    "\n",
    "column_list = [\"species\", \"bill_length_mm\", \"flipper_length_mm\", \"body_mass_g\"]\n",
    "\n",
    "def get_species_color(species_name):\n",
    "    if species_name == \"Adelie\":\n",
    "        return \"#FF9013\"\n",
    "    elif species_name == \"Chinstrap\":\n",
    "        return \"#9932CC\"\n",
    "    elif species_name == \"Gentoo\":\n",
    "        return \"#048B8C\"\n",
    "\n",
    "dataframe = pd.read_csv(\n",
    "    \"../penglings.csv\",\n",
    "    usecols=column_list,  # Select only subsets of columns from the csv file, which allows for more efficient file reading.\n",
    "    na_filter=False,  # Do not filter the NA values.\n",
    ")\n",
    "\n",
    "# Fill in the NA values using the current mean or mode (mode used for species name) of the selected column:\n",
    "\n",
    "for (feature_name, feature_data) in dataframe.items():\n",
    "    dataframe[feature_name] = pd.to_numeric(dataframe[feature_name], errors='coerce')\n",
    "    if feature_name == column_list[0]:\n",
    "        dataframe[feature_name].fillna(value=dataframe[feature_name].mode(), inplace=True)\n",
    "    else: \n",
    "        dataframe[feature_name].fillna(value=dataframe[feature_name].mean(), inplace=True)\n",
    "\n",
    "X = dataframe.iloc[0:345, [2]].values\n",
    "Y = dataframe.iloc[0:345, [3]].values\n",
    "\n",
    "plt.scatter(X, Y, color=get_species_color(dataframe.species), alpha=0.8, s=dataframe.bill_length_mm)\n",
    "plt.title('Scatter Plot of Body Mass (g) vs. Flipper Length (mm) of Penguins')\n",
    "plt.xlabel(\"Flipper Length (mm)\")\n",
    "plt.ylabel(\"Body Mass (g)\")\n",
    "\n",
    "plt.xticks([170, 180, 190, 200, 210, 220, 230]) \n",
    "plt.yticks([3000, 4000, 5000, 6000])\n",
    "\n",
    "plt.show()\n",
    "\n"
   ]
  }
 ],
 "metadata": {
  "kernelspec": {
   "display_name": "Python 3",
   "language": "python",
   "name": "python3"
  },
  "language_info": {
   "name": "python",
   "version": "3.8.5"
  }
 },
 "nbformat": 4,
 "nbformat_minor": 2
}
