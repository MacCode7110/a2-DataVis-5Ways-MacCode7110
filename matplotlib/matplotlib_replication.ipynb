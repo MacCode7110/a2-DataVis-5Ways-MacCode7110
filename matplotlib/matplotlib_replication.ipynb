{
 "cells": [
  {
   "cell_type": "code",
   "execution_count": null,
   "metadata": {},
   "outputs": [],
   "source": [
    "import pandas as pd\n",
    "import matplotlib.pyplot as plt\n",
    "\n",
    "column_list = [\"species\", \"bill_length_mm\", \"flipper_length_mm\", \"body_mass_g\"]\n",
    "species_domain = [\"Adelie\", \"Chinstrap\", \"Gentoo\"]\n",
    "species_color_range = [\"#FF9013\", \"#9932CC\", \"#048B8C\"]\n",
    "\n",
    "dataframe = pd.read_csv(\n",
    "    \"../penglings.csv\",\n",
    "    usecols=column_list,  # Select only subsets of columns from the csv file, which allows for more efficient file reading.\n",
    "    na_filter=False,  # Do not filter data rows with NA values.\n",
    ")"
   ]
  }
 ],
 "metadata": {
  "kernelspec": {
   "display_name": "Python 3",
   "language": "python",
   "name": "python3"
  },
  "language_info": {
   "name": "python",
   "version": "3.8.5"
  }
 },
 "nbformat": 4,
 "nbformat_minor": 2
}
